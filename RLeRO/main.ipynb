{
 "cells": [
  {
   "cell_type": "code",
   "execution_count": 1,
   "metadata": {},
   "outputs": [],
   "source": [
    "from src.config import Config\n",
    "config = Config()"
   ]
  },
  {
   "cell_type": "markdown",
   "metadata": {},
   "source": [
    "### Generate Training Data and Visualize"
   ]
  },
  {
   "cell_type": "code",
   "execution_count": null,
   "metadata": {},
   "outputs": [],
   "source": [
    "import matplotlib.pyplot as plt \n",
    "from src.data_simulator import generate_data\n",
    "\n",
    "train_data = generate_data(n_periods=config.training_period, mode=\"train\", seed=42)\n",
    "plt.figure(figsize=(12, 8))\n",
    "\n",
    "# Plot Demand\n",
    "plt.subplot(3, 1, 1)\n",
    "plt.plot(train_data['time'], train_data['demand'], label='Demand', color='blue')\n",
    "plt.title('Training Data: Demand over Time')\n",
    "plt.xlabel('Time')\n",
    "plt.ylabel('Demand')\n",
    "plt.legend()\n",
    "\n",
    "# Plot Lead Time\n",
    "plt.subplot(3, 1, 2)\n",
    "plt.plot(train_data['time'], train_data['yield_rate'], label='yield_rate', color='green')\n",
    "plt.title('Training Data: yield_rate over Time')\n",
    "plt.xlabel('Time')\n",
    "plt.ylabel('yield_rate')\n",
    "plt.legend()\n",
    "\n",
    "plt.tight_layout()\n",
    "plt.show()"
   ]
  },
  {
   "cell_type": "markdown",
   "metadata": {},
   "source": [
    "### Train the RL agent using PPO"
   ]
  },
  {
   "cell_type": "code",
   "execution_count": 3,
   "metadata": {},
   "outputs": [],
   "source": [
    "from src.reinforcement_learning import train_ppo_model\n",
    "# train_ppo_model(train_data)"
   ]
  },
  {
   "cell_type": "markdown",
   "metadata": {},
   "source": [
    "### Generate Test Data and Visualize"
   ]
  },
  {
   "cell_type": "code",
   "execution_count": null,
   "metadata": {},
   "outputs": [],
   "source": [
    "# Generate test data and evaluate performance\n",
    "test_data = generate_data(n_periods=config.test_period, mode=\"test\", seed=24)\n",
    "\n",
    "plt.figure(figsize=(12, 8))\n",
    "\n",
    "# Plot Demand\n",
    "plt.subplot(3, 1, 1)\n",
    "plt.plot(test_data['time'], test_data['demand'], label='Demand', color='blue')\n",
    "plt.title('Test Data: Demand over Time')\n",
    "plt.xlabel('Time')\n",
    "plt.ylabel('Demand')\n",
    "plt.legend()\n",
    "\n",
    "# Plot Lead Time\n",
    "plt.subplot(3, 1, 2)\n",
    "plt.plot(test_data['time'], test_data['yield_rate'], label='yield_rate', color='green')\n",
    "plt.title('Test Data: yield_rate over Time')\n",
    "plt.xlabel('Time')\n",
    "plt.ylabel('yield_rate')\n",
    "plt.legend()\n",
    "\n",
    "plt.tight_layout()\n",
    "plt.show()"
   ]
  },
  {
   "cell_type": "markdown",
   "metadata": {},
   "source": [
    "### Load the trained RL model and Compare Performances with Pure RL and Pure RO"
   ]
  },
  {
   "cell_type": "code",
   "execution_count": null,
   "metadata": {},
   "outputs": [],
   "source": [
    "from src.performance_evaluation import PerformanceEvaluator\n",
    "from src.robust_optimization import robust_order_quantity\n",
    "from src.inventory_env import InventoryEnv\n",
    "from stable_baselines3 import PPO\n",
    "\n",
    "# Load the trained RL model\n",
    "rl_model = PPO.load(config.model_path)\n",
    "\n",
    "evaluator = PerformanceEvaluator(\n",
    "    test_data=test_data,\n",
    "    train_data=train_data,\n",
    "    env_class=InventoryEnv,\n",
    "    robust_optimizer=robust_order_quantity,\n",
    "    rl_model=rl_model,\n",
    ")\n",
    "\n",
    "performance_table = evaluator.evaluate_all_methods()\n",
    "print(\"\\nPerformance Evaluation:\")\n",
    "print(performance_table)\n",
    "\n"
   ]
  },
  {
   "cell_type": "code",
   "execution_count": null,
   "metadata": {},
   "outputs": [],
   "source": [
    "performance_table = evaluator.plot_yield_demand_ro_triggers()"
   ]
  }
 ],
 "metadata": {
  "kernelspec": {
   "display_name": "OGRL",
   "language": "python",
   "name": "python3"
  },
  "language_info": {
   "codemirror_mode": {
    "name": "ipython",
    "version": 3
   },
   "file_extension": ".py",
   "mimetype": "text/x-python",
   "name": "python",
   "nbconvert_exporter": "python",
   "pygments_lexer": "ipython3",
   "version": "3.12.9"
  }
 },
 "nbformat": 4,
 "nbformat_minor": 2
}
